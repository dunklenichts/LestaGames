{
  "nbformat": 4,
  "nbformat_minor": 0,
  "metadata": {
    "colab": {
      "provenance": []
    },
    "kernelspec": {
      "name": "python3",
      "display_name": "Python 3"
    },
    "language_info": {
      "name": "python"
    }
  },
  "cells": [
    {
      "cell_type": "markdown",
      "source": [
        "# Вопрос №1\n",
        "На языке Python написать алгоритм (функцию) определения четности целого числа, который будет аналогичен нижеприведенному по функциональности, но отличен по своей сути. Объяснить плюсы и минусы обеих реализаций.\n",
        "\n",
        "Пример:\n",
        "\n",
        "\n",
        "```\n",
        "def isEven(value):\n",
        "      return value % 2 == 0\n",
        "```\n",
        "\n"
      ],
      "metadata": {
        "id": "EwAnFMvSbo8p"
      }
    },
    {
      "cell_type": "markdown",
      "source": [
        "### isinstance"
      ],
      "metadata": {
        "id": "M2lTnDCfbugv"
      }
    },
    {
      "cell_type": "code",
      "execution_count": 3,
      "metadata": {
        "id": "3_cQdJapbldL"
      },
      "outputs": [],
      "source": [
        "def isEven(value):\n",
        "    \"\"\"\n",
        "      Функция проверяет, является ли введенное число целым\n",
        "\n",
        "      Args:\n",
        "\n",
        "          value: объект для проверки\n",
        "\n",
        "      Returns:\n",
        "\n",
        "          Булево значение, если число целое, в противном случае выдает сообщение об ошибке\n",
        "    \"\"\"\n",
        "    if isinstance(value, bool):  # Сначала исключаем булевы значения\n",
        "        return \"Value must be a non-boolean integer\"\n",
        "    elif isinstance(value, int):\n",
        "        return True\n",
        "    else:\n",
        "        return \"Value must be an integer\""
      ]
    },
    {
      "cell_type": "markdown",
      "source": [
        "### bitwise"
      ],
      "metadata": {
        "id": "7ZHAsYnhbvlF"
      }
    },
    {
      "cell_type": "code",
      "source": [
        "def isEven_2(value):\n",
        "    \"\"\"\n",
        "      Функция проверяет, является ли введенное число целым\n",
        "\n",
        "      Args:\n",
        "\n",
        "          value: объект для проверки\n",
        "\n",
        "      Returns:\n",
        "\n",
        "          Булево значение, если число целое, в противном случае выдает сообщение об ошибке\n",
        "    \"\"\"\n",
        "    if isinstance(value, bool):  # Сначала исключаем булевы значения\n",
        "        return \"Value must be a non-boolean integer\"\n",
        "    else:\n",
        "      try:\n",
        "        return (value & 1) == 0\n",
        "      except:\n",
        "        return \"Value must be an integer\""
      ],
      "metadata": {
        "id": "-kbfKqYBbrU5"
      },
      "execution_count": 4,
      "outputs": []
    },
    {
      "cell_type": "markdown",
      "source": [
        "### apply"
      ],
      "metadata": {
        "id": "F-8HczCDb2zA"
      }
    },
    {
      "cell_type": "code",
      "source": [
        "test = [0, 3.23234, \"testest\", True, False]\n",
        "\n",
        "print(\"The second one function isEven:\\n\")\n",
        "for elem in test:\n",
        "  print(f\"{elem} : isEven(elem)\")\n",
        "\n",
        "print(\"\\n--------------------------------\\n\\nThe second one function isEven_2:\\n\")\n",
        "for elem in test:\n",
        "  print(f\"{elem} : isEven_2(elem)\")"
      ],
      "metadata": {
        "colab": {
          "base_uri": "https://localhost:8080/"
        },
        "id": "2Azum5Hfbs8d",
        "outputId": "ef832a0a-2622-41de-c722-99e61b48c530"
      },
      "execution_count": 5,
      "outputs": [
        {
          "output_type": "stream",
          "name": "stdout",
          "text": [
            "The second one function isEven:\n",
            "\n",
            "0 : isEven(elem)\n",
            "3.23234 : isEven(elem)\n",
            "testest : isEven(elem)\n",
            "True : isEven(elem)\n",
            "False : isEven(elem)\n",
            "\n",
            "--------------------------------\n",
            "\n",
            "The second one function isEven_2:\n",
            "\n",
            "0 : isEven_2(elem)\n",
            "3.23234 : isEven_2(elem)\n",
            "testest : isEven_2(elem)\n",
            "True : isEven_2(elem)\n",
            "False : isEven_2(elem)\n"
          ]
        }
      ]
    }
  ]
}