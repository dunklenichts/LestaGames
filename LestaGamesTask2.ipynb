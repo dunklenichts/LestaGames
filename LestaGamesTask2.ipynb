{
  "nbformat": 4,
  "nbformat_minor": 0,
  "metadata": {
    "colab": {
      "provenance": []
    },
    "kernelspec": {
      "name": "python3",
      "display_name": "Python 3"
    },
    "language_info": {
      "name": "python"
    }
  },
  "cells": [
    {
      "cell_type": "markdown",
      "source": [
        "# Вопрос №2\n",
        "На языке Python написать минимум по 2 класса реализовывающих циклический буфер FIFO. Объяснить плюсы и минусы каждой реализации.\n",
        "\n",
        "Оценивается:\n",
        "\n",
        "\n",
        "\n",
        "1.   Полнота и качество реализации\n",
        "2.   Оформление кода\n",
        "3. Наличие сравнения и пояснения по быстродействию\n",
        "\n",
        "\n",
        "\n"
      ],
      "metadata": {
        "id": "EwAnFMvSbo8p"
      }
    },
    {
      "cell_type": "code",
      "source": [
        "from typing import List\n",
        "from collections import deque"
      ],
      "metadata": {
        "id": "DUzrqzh-cW9H"
      },
      "execution_count": 10,
      "outputs": []
    },
    {
      "cell_type": "markdown",
      "source": [
        "### list"
      ],
      "metadata": {
        "id": "M2lTnDCfbugv"
      }
    },
    {
      "cell_type": "code",
      "execution_count": 7,
      "metadata": {
        "id": "3_cQdJapbldL"
      },
      "outputs": [],
      "source": [
        "class FifoList:\n",
        "    capacity: int\n",
        "    buffer: List[int]\n",
        "    size: int\n",
        "\n",
        "    def __init__(self, capacity: int):\n",
        "        \"\"\"\n",
        "          Инициализация FIFO списка с указанной размерностью\n",
        "\n",
        "          Args:\n",
        "\n",
        "              capacity: максимальный размер буфера\n",
        "        \"\"\"\n",
        "        self.capacity = capacity\n",
        "        # Буфер, который инициализируется None элементами размерносьтю capacity\n",
        "        self.buffer = [None] * capacity\n",
        "        # Количество элементов в буфере\n",
        "        self.size = 0\n",
        "\n",
        "    def put(self, item: int) -> None:\n",
        "        \"\"\"\n",
        "          Функция добавляет элемент в FIFO-список. При добавлении элементов\n",
        "          другие элементы списка сдвигаются на одну позицию влево, если буфер полон.\n",
        "          В противном случае элемент добавляется на следующую свободную позицию\n",
        "\n",
        "          Args:\n",
        "\n",
        "              item: элемент, который необходимо добавить в буфер\n",
        "        \"\"\"\n",
        "        # Проверям, полон буфер или нет\n",
        "        if self.size == self.capacity:\n",
        "            # Сдвигаем элементы на одну позицию влево\n",
        "            for i in range(1, self.size):\n",
        "                self.buffer[i-1] = self.buffer[i]\n",
        "            # Добавляем новый элемент в конец\n",
        "            self.buffer[self.size-1] = item\n",
        "        # Если буфер не полон\n",
        "        else:\n",
        "            # Добавляем элемент на следующую свободную позицию от начала\n",
        "            self.buffer[self.size] = item\n",
        "            # Отслеживаем кол-во элементов в буфере\n",
        "            self.size += 1\n",
        "        print(self.buffer)\n",
        "\n",
        "    def clean(self) -> None:\n",
        "        \"\"\"\n",
        "          Функция очищает буфер, удаляя все элементы\n",
        "        \"\"\"\n",
        "        # Кол-во элементов теперь 0\n",
        "        self.size = 0\n",
        "        # Заново инициализируем буфер\n",
        "        self.buffer = [None] * self.capacity\n",
        "        print(f\"\\nBuffer's cleaned: {self.buffer}\")\n"
      ]
    },
    {
      "cell_type": "code",
      "source": [
        "n = 3\n",
        "buf = FifoList(n)"
      ],
      "metadata": {
        "id": "EittZ1NOcaxA"
      },
      "execution_count": 8,
      "outputs": []
    },
    {
      "cell_type": "code",
      "source": [
        "for i in range(10):\n",
        "    buf.put(i)\n",
        "\n",
        "buf.clean()"
      ],
      "metadata": {
        "colab": {
          "base_uri": "https://localhost:8080/"
        },
        "id": "ZbNbAjMhccKG",
        "outputId": "7a42864c-f647-47c6-9656-14fef360c972"
      },
      "execution_count": 9,
      "outputs": [
        {
          "output_type": "stream",
          "name": "stdout",
          "text": [
            "[0, None, None]\n",
            "[0, 1, None]\n",
            "[0, 1, 2]\n",
            "[1, 2, 3]\n",
            "[2, 3, 4]\n",
            "[3, 4, 5]\n",
            "[4, 5, 6]\n",
            "[5, 6, 7]\n",
            "[6, 7, 8]\n",
            "[7, 8, 9]\n",
            "\n",
            "Buffer's cleaned: [None, None, None]\n"
          ]
        }
      ]
    },
    {
      "cell_type": "markdown",
      "source": [
        "### collections"
      ],
      "metadata": {
        "id": "7ZHAsYnhbvlF"
      }
    },
    {
      "cell_type": "code",
      "source": [
        "class FifoCollections:\n",
        "    buffer: List[int]\n",
        "\n",
        "    def __init__(self, capacity: int) -> None:\n",
        "        \"\"\"\n",
        "          Инициализирует двустороннюю очередь deque, которая позволяет добавлять\n",
        "          и извлекать элементы последовательности с любой стороны\n",
        "\n",
        "          Args:\n",
        "\n",
        "              capacity: максимальная вместимость буфера\n",
        "        \"\"\"\n",
        "        # Инициализация буфера с максимальной длиной capacity\n",
        "        self.buffer = deque(maxlen=capacity)\n",
        "\n",
        "    def put_collection(self, item: int) -> None:\n",
        "        \"\"\"\n",
        "          Функция добавляет элемент в буфер. Если буфер полон, удаляет\n",
        "          самый старый элемент\n",
        "\n",
        "          Args:\n",
        "\n",
        "            item: элемент, который необходимо добавить в буфер\n",
        "        \"\"\"\n",
        "        # Если буфер полон\n",
        "        if len(self.buffer) == self.buffer.maxlen:\n",
        "            # Убираем самый старый элемент\n",
        "            self.buffer.popleft()\n",
        "        # Добавляем новый элемент в конец буфера\n",
        "        self.buffer.append(item)\n",
        "        print(self.buffer)\n",
        "\n",
        "    def clean(self, capacity: int) -> None:\n",
        "        \"\"\"\n",
        "          Функция очищает буфер\n",
        "\n",
        "          Args:\n",
        "\n",
        "            capacity: максимальная вместимость буфера\n",
        "        \"\"\"\n",
        "        # Инициализация буфера с максимальной длиной capacity\n",
        "        self.buffer = deque(maxlen=capacity)\n",
        "        print(f\"\\nBuffer's cleaned: {self.buffer}\")"
      ],
      "metadata": {
        "id": "-kbfKqYBbrU5"
      },
      "execution_count": 11,
      "outputs": []
    },
    {
      "cell_type": "code",
      "source": [
        "buf_2 = FifoCollections(3)\n",
        "\n",
        "for i in range(10):\n",
        "    buf_2.put_collection(i)\n",
        "\n",
        "buf_2.clean(3)"
      ],
      "metadata": {
        "id": "a6bynyGTckiP",
        "outputId": "148b5921-e582-49c4-d536-b0b23f05ed9c",
        "colab": {
          "base_uri": "https://localhost:8080/"
        }
      },
      "execution_count": 12,
      "outputs": [
        {
          "output_type": "stream",
          "name": "stdout",
          "text": [
            "deque([0], maxlen=3)\n",
            "deque([0, 1], maxlen=3)\n",
            "deque([0, 1, 2], maxlen=3)\n",
            "deque([1, 2, 3], maxlen=3)\n",
            "deque([2, 3, 4], maxlen=3)\n",
            "deque([3, 4, 5], maxlen=3)\n",
            "deque([4, 5, 6], maxlen=3)\n",
            "deque([5, 6, 7], maxlen=3)\n",
            "deque([6, 7, 8], maxlen=3)\n",
            "deque([7, 8, 9], maxlen=3)\n",
            "\n",
            "Buffer's cleaned: deque([], maxlen=3)\n"
          ]
        }
      ]
    }
  ]
}